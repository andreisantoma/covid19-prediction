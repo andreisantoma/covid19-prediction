{
 "cells": [
  {
   "cell_type": "code",
   "execution_count": 32,
   "metadata": {},
   "outputs": [],
   "source": [
    "# Standard imports\n",
    "import pandas as pd\n",
    "pd.options.mode.chained_assignment = None  # default='warn'\n",
    "import numpy as np\n",
    "import re\n",
    "import sklearn\n",
    "import matplotlib.pyplot as plt\n",
    "\n",
    "# Model evaluation functions\n",
    "from sklearn.metrics import accuracy_score, roc_auc_score, precision_score, recall_score, f1_score, roc_curve"
   ]
  },
  {
   "cell_type": "markdown",
   "metadata": {},
   "source": [
    "## 1. Acquire the data"
   ]
  },
  {
   "cell_type": "markdown",
   "metadata": {},
   "source": [
    "Dataset is available at: https://datarepository.wolframcloud.com/resources/Patient-Medical-Data-for-Novel-Coronavirus-COVID-19"
   ]
  },
  {
   "cell_type": "markdown",
   "metadata": {},
   "source": [
    "Read data from csv file and also replace all 'Missing[\"NotAvailable\"]' values with NaN"
   ]
  },
  {
   "cell_type": "code",
   "execution_count": 4,
   "metadata": {},
   "outputs": [],
   "source": [
    "dataset_path = 'Patient-Medical-Data-for-Novel-Coronavirus-COVID-19_updated.csv' # Replace this as necessary\n",
    "\n",
    "def load_data():\n",
    "    data = pd.read_csv(dataset_path)\n",
    "    data.replace('Missing[\"NotAvailable\"]', np.NaN, inplace=True)\n",
    "    return data\n",
    "\n",
    "data = load_data()"
   ]
  },
  {
   "cell_type": "code",
   "execution_count": 5,
   "metadata": {},
   "outputs": [
    {
     "data": {
      "text/html": [
       "<div>\n",
       "<style scoped>\n",
       "    .dataframe tbody tr th:only-of-type {\n",
       "        vertical-align: middle;\n",
       "    }\n",
       "\n",
       "    .dataframe tbody tr th {\n",
       "        vertical-align: top;\n",
       "    }\n",
       "\n",
       "    .dataframe thead th {\n",
       "        text-align: right;\n",
       "    }\n",
       "</style>\n",
       "<table border=\"1\" class=\"dataframe\">\n",
       "  <thead>\n",
       "    <tr style=\"text-align: right;\">\n",
       "      <th></th>\n",
       "      <th>Age</th>\n",
       "      <th>Sex</th>\n",
       "      <th>City</th>\n",
       "      <th>AdministrativeDivision</th>\n",
       "      <th>Country</th>\n",
       "      <th>GeoPosition</th>\n",
       "      <th>DateOfOnsetSymptoms</th>\n",
       "      <th>DateOfAdmissionHospital</th>\n",
       "      <th>DateOfConfirmation</th>\n",
       "      <th>Symptoms</th>\n",
       "      <th>...</th>\n",
       "      <th>TravelHistoryLocation</th>\n",
       "      <th>ReportedMarketExposure</th>\n",
       "      <th>ReportedMarketExposureComment</th>\n",
       "      <th>ChronicDiseaseQ</th>\n",
       "      <th>ChronicDiseases</th>\n",
       "      <th>SequenceAvailable</th>\n",
       "      <th>DischargedQ</th>\n",
       "      <th>DeathQ</th>\n",
       "      <th>DateOfDeath</th>\n",
       "      <th>DateOfDischarge</th>\n",
       "    </tr>\n",
       "  </thead>\n",
       "  <tbody>\n",
       "    <tr>\n",
       "      <td>0</td>\n",
       "      <td>48</td>\n",
       "      <td>Entity[\"Gender\", \"Female\"]</td>\n",
       "      <td>Entity[\"City\", {\"Wuhan\", \"Hubei\", \"China\"}]</td>\n",
       "      <td>Entity[\"AdministrativeDivision\", {\"Hubei\", \"Ch...</td>\n",
       "      <td>Entity[\"Country\", \"China\"]</td>\n",
       "      <td>GeoPosition[{30.625059999999998, 114.3421}]</td>\n",
       "      <td>DateObject[{2019, 12, 10}, \"Day\", \"Gregorian\",...</td>\n",
       "      <td>DateObject[{2019, 12, 10}, \"Day\", \"Gregorian\",...</td>\n",
       "      <td>NaN</td>\n",
       "      <td>{\"cough\", \"fatigue\", \"fever\", \"sputum\", \"myalg...</td>\n",
       "      <td>...</td>\n",
       "      <td>NaN</td>\n",
       "      <td>NaN</td>\n",
       "      <td>NaN</td>\n",
       "      <td>True</td>\n",
       "      <td>{\"diabetes\", \"cerebral infarction\"}</td>\n",
       "      <td>NaN</td>\n",
       "      <td>NaN</td>\n",
       "      <td>True</td>\n",
       "      <td>DateObject[{2020, 1, 20}, \"Day\", \"Gregorian\", ...</td>\n",
       "      <td>NaN</td>\n",
       "    </tr>\n",
       "    <tr>\n",
       "      <td>1</td>\n",
       "      <td>Interval[{15, 88}]</td>\n",
       "      <td>Entity[\"Gender\", \"Female\"]</td>\n",
       "      <td>Entity[\"City\", {\"Wuhan\", \"Hubei\", \"China\"}]</td>\n",
       "      <td>Entity[\"AdministrativeDivision\", {\"Hubei\", \"Ch...</td>\n",
       "      <td>Entity[\"Country\", \"China\"]</td>\n",
       "      <td>GeoPosition[{30.625059999999998, 114.3421}]</td>\n",
       "      <td>DateObject[{2019, 12, 10}, \"Day\", \"Gregorian\",...</td>\n",
       "      <td>DateObject[{2019, 12, 31}, \"Day\", \"Gregorian\",...</td>\n",
       "      <td>NaN</td>\n",
       "      <td>{\"shortness of breath\", \"respiratory symptoms\"}</td>\n",
       "      <td>...</td>\n",
       "      <td>NaN</td>\n",
       "      <td>NaN</td>\n",
       "      <td>NaN</td>\n",
       "      <td>False</td>\n",
       "      <td>NaN</td>\n",
       "      <td>NaN</td>\n",
       "      <td>NaN</td>\n",
       "      <td>True</td>\n",
       "      <td>NaN</td>\n",
       "      <td>NaN</td>\n",
       "    </tr>\n",
       "    <tr>\n",
       "      <td>2</td>\n",
       "      <td>61</td>\n",
       "      <td>Entity[\"Gender\", \"Male\"]</td>\n",
       "      <td>Entity[\"City\", {\"Wuhan\", \"Hubei\", \"China\"}]</td>\n",
       "      <td>Entity[\"AdministrativeDivision\", {\"Hubei\", \"Ch...</td>\n",
       "      <td>Entity[\"Country\", \"China\"]</td>\n",
       "      <td>GeoPosition[{30.625059999999998, 114.3421}]</td>\n",
       "      <td>DateObject[{2019, 12, 20}, \"Day\", \"Gregorian\",...</td>\n",
       "      <td>DateObject[{2019, 12, 27}, \"Day\", \"Gregorian\",...</td>\n",
       "      <td>NaN</td>\n",
       "      <td>NaN</td>\n",
       "      <td>...</td>\n",
       "      <td>NaN</td>\n",
       "      <td>NaN</td>\n",
       "      <td>NaN</td>\n",
       "      <td>False</td>\n",
       "      <td>NaN</td>\n",
       "      <td>True</td>\n",
       "      <td>NaN</td>\n",
       "      <td>True</td>\n",
       "      <td>DateObject[{2020, 1, 9}, \"Day\", \"Gregorian\", -5.]</td>\n",
       "      <td>NaN</td>\n",
       "    </tr>\n",
       "    <tr>\n",
       "      <td>3</td>\n",
       "      <td>58</td>\n",
       "      <td>Entity[\"Gender\", \"Male\"]</td>\n",
       "      <td>Entity[\"City\", {\"Wuhan\", \"Hubei\", \"China\"}]</td>\n",
       "      <td>Entity[\"AdministrativeDivision\", {\"Hubei\", \"Ch...</td>\n",
       "      <td>Entity[\"Country\", \"China\"]</td>\n",
       "      <td>GeoPosition[{30.625059999999998, 114.3421}]</td>\n",
       "      <td>DateObject[{2019, 12, 22}, \"Day\", \"Gregorian\",...</td>\n",
       "      <td>DateObject[{2020, 1, 1}, \"Day\", \"Gregorian\", -5.]</td>\n",
       "      <td>NaN</td>\n",
       "      <td>{\"cough\", \"sputum\", \"fever\"}</td>\n",
       "      <td>...</td>\n",
       "      <td>NaN</td>\n",
       "      <td>NaN</td>\n",
       "      <td>NaN</td>\n",
       "      <td>False</td>\n",
       "      <td>NaN</td>\n",
       "      <td>NaN</td>\n",
       "      <td>NaN</td>\n",
       "      <td>True</td>\n",
       "      <td>DateObject[{2020, 1, 23}, \"Day\", \"Gregorian\", ...</td>\n",
       "      <td>NaN</td>\n",
       "    </tr>\n",
       "    <tr>\n",
       "      <td>4</td>\n",
       "      <td>66</td>\n",
       "      <td>Entity[\"Gender\", \"Male\"]</td>\n",
       "      <td>Entity[\"City\", {\"Wuhan\", \"Hubei\", \"China\"}]</td>\n",
       "      <td>Entity[\"AdministrativeDivision\", {\"Hubei\", \"Ch...</td>\n",
       "      <td>Entity[\"Country\", \"China\"]</td>\n",
       "      <td>GeoPosition[{30.625059999999998, 114.3421}]</td>\n",
       "      <td>DateObject[{2019, 12, 22}, \"Day\", \"Gregorian\",...</td>\n",
       "      <td>DateObject[{2019, 12, 31}, \"Day\", \"Gregorian\",...</td>\n",
       "      <td>NaN</td>\n",
       "      <td>{\"cough\"}</td>\n",
       "      <td>...</td>\n",
       "      <td>NaN</td>\n",
       "      <td>NaN</td>\n",
       "      <td>NaN</td>\n",
       "      <td>False</td>\n",
       "      <td>NaN</td>\n",
       "      <td>NaN</td>\n",
       "      <td>NaN</td>\n",
       "      <td>True</td>\n",
       "      <td>DateObject[{2020, 1, 21}, \"Day\", \"Gregorian\", ...</td>\n",
       "      <td>NaN</td>\n",
       "    </tr>\n",
       "  </tbody>\n",
       "</table>\n",
       "<p>5 rows × 23 columns</p>\n",
       "</div>"
      ],
      "text/plain": [
       "                  Age                         Sex  \\\n",
       "0                  48  Entity[\"Gender\", \"Female\"]   \n",
       "1  Interval[{15, 88}]  Entity[\"Gender\", \"Female\"]   \n",
       "2                  61    Entity[\"Gender\", \"Male\"]   \n",
       "3                  58    Entity[\"Gender\", \"Male\"]   \n",
       "4                  66    Entity[\"Gender\", \"Male\"]   \n",
       "\n",
       "                                          City  \\\n",
       "0  Entity[\"City\", {\"Wuhan\", \"Hubei\", \"China\"}]   \n",
       "1  Entity[\"City\", {\"Wuhan\", \"Hubei\", \"China\"}]   \n",
       "2  Entity[\"City\", {\"Wuhan\", \"Hubei\", \"China\"}]   \n",
       "3  Entity[\"City\", {\"Wuhan\", \"Hubei\", \"China\"}]   \n",
       "4  Entity[\"City\", {\"Wuhan\", \"Hubei\", \"China\"}]   \n",
       "\n",
       "                              AdministrativeDivision  \\\n",
       "0  Entity[\"AdministrativeDivision\", {\"Hubei\", \"Ch...   \n",
       "1  Entity[\"AdministrativeDivision\", {\"Hubei\", \"Ch...   \n",
       "2  Entity[\"AdministrativeDivision\", {\"Hubei\", \"Ch...   \n",
       "3  Entity[\"AdministrativeDivision\", {\"Hubei\", \"Ch...   \n",
       "4  Entity[\"AdministrativeDivision\", {\"Hubei\", \"Ch...   \n",
       "\n",
       "                      Country                                  GeoPosition  \\\n",
       "0  Entity[\"Country\", \"China\"]  GeoPosition[{30.625059999999998, 114.3421}]   \n",
       "1  Entity[\"Country\", \"China\"]  GeoPosition[{30.625059999999998, 114.3421}]   \n",
       "2  Entity[\"Country\", \"China\"]  GeoPosition[{30.625059999999998, 114.3421}]   \n",
       "3  Entity[\"Country\", \"China\"]  GeoPosition[{30.625059999999998, 114.3421}]   \n",
       "4  Entity[\"Country\", \"China\"]  GeoPosition[{30.625059999999998, 114.3421}]   \n",
       "\n",
       "                                 DateOfOnsetSymptoms  \\\n",
       "0  DateObject[{2019, 12, 10}, \"Day\", \"Gregorian\",...   \n",
       "1  DateObject[{2019, 12, 10}, \"Day\", \"Gregorian\",...   \n",
       "2  DateObject[{2019, 12, 20}, \"Day\", \"Gregorian\",...   \n",
       "3  DateObject[{2019, 12, 22}, \"Day\", \"Gregorian\",...   \n",
       "4  DateObject[{2019, 12, 22}, \"Day\", \"Gregorian\",...   \n",
       "\n",
       "                             DateOfAdmissionHospital DateOfConfirmation  \\\n",
       "0  DateObject[{2019, 12, 10}, \"Day\", \"Gregorian\",...                NaN   \n",
       "1  DateObject[{2019, 12, 31}, \"Day\", \"Gregorian\",...                NaN   \n",
       "2  DateObject[{2019, 12, 27}, \"Day\", \"Gregorian\",...                NaN   \n",
       "3  DateObject[{2020, 1, 1}, \"Day\", \"Gregorian\", -5.]                NaN   \n",
       "4  DateObject[{2019, 12, 31}, \"Day\", \"Gregorian\",...                NaN   \n",
       "\n",
       "                                            Symptoms  ...  \\\n",
       "0  {\"cough\", \"fatigue\", \"fever\", \"sputum\", \"myalg...  ...   \n",
       "1    {\"shortness of breath\", \"respiratory symptoms\"}  ...   \n",
       "2                                                NaN  ...   \n",
       "3                       {\"cough\", \"sputum\", \"fever\"}  ...   \n",
       "4                                          {\"cough\"}  ...   \n",
       "\n",
       "  TravelHistoryLocation  ReportedMarketExposure ReportedMarketExposureComment  \\\n",
       "0                   NaN                     NaN                           NaN   \n",
       "1                   NaN                     NaN                           NaN   \n",
       "2                   NaN                     NaN                           NaN   \n",
       "3                   NaN                     NaN                           NaN   \n",
       "4                   NaN                     NaN                           NaN   \n",
       "\n",
       "  ChronicDiseaseQ                      ChronicDiseases SequenceAvailable  \\\n",
       "0            True  {\"diabetes\", \"cerebral infarction\"}               NaN   \n",
       "1           False                                  NaN               NaN   \n",
       "2           False                                  NaN              True   \n",
       "3           False                                  NaN               NaN   \n",
       "4           False                                  NaN               NaN   \n",
       "\n",
       "   DischargedQ DeathQ                                        DateOfDeath  \\\n",
       "0          NaN   True  DateObject[{2020, 1, 20}, \"Day\", \"Gregorian\", ...   \n",
       "1          NaN   True                                                NaN   \n",
       "2          NaN   True  DateObject[{2020, 1, 9}, \"Day\", \"Gregorian\", -5.]   \n",
       "3          NaN   True  DateObject[{2020, 1, 23}, \"Day\", \"Gregorian\", ...   \n",
       "4          NaN   True  DateObject[{2020, 1, 21}, \"Day\", \"Gregorian\", ...   \n",
       "\n",
       "  DateOfDischarge  \n",
       "0             NaN  \n",
       "1             NaN  \n",
       "2             NaN  \n",
       "3             NaN  \n",
       "4             NaN  \n",
       "\n",
       "[5 rows x 23 columns]"
      ]
     },
     "execution_count": 5,
     "metadata": {},
     "output_type": "execute_result"
    }
   ],
   "source": [
    "# Data preview\n",
    "data.head()"
   ]
  },
  {
   "cell_type": "markdown",
   "metadata": {},
   "source": [
    "## 2. Clean the data"
   ]
  },
  {
   "cell_type": "markdown",
   "metadata": {},
   "source": [
    "### 2.1. First look"
   ]
  },
  {
   "cell_type": "markdown",
   "metadata": {},
   "source": [
    "For each column, compute percentage of missing values"
   ]
  },
  {
   "cell_type": "code",
   "execution_count": 6,
   "metadata": {},
   "outputs": [
    {
     "data": {
      "text/plain": [
       "Age                               14.751684\n",
       "Sex                               14.498457\n",
       "City                              48.201810\n",
       "AdministrativeDivision            29.374299\n",
       "Country                            0.016835\n",
       "GeoPosition                        0.000000\n",
       "DateOfOnsetSymptoms               42.209947\n",
       "DateOfAdmissionHospital           85.909442\n",
       "DateOfConfirmation                13.424874\n",
       "Symptoms                          99.374649\n",
       "LivesInWuhan                      99.364478\n",
       "LivesInWuhanComment              100.000000\n",
       "TravelHistoryDates                99.132295\n",
       "TravelHistoryLocation             97.404251\n",
       "ReportedMarketExposure            99.973345\n",
       "ReportedMarketExposureComment     99.994739\n",
       "ChronicDiseaseQ                    0.000000\n",
       "ChronicDiseases                   99.947391\n",
       "SequenceAvailable                 99.997896\n",
       "DischargedQ                       99.958965\n",
       "DeathQ                            99.946338\n",
       "DateOfDeath                       99.948092\n",
       "DateOfDischarge                   99.868827\n",
       "dtype: float64"
      ]
     },
     "execution_count": 6,
     "metadata": {},
     "output_type": "execute_result"
    }
   ],
   "source": [
    "data.isna().sum() * 100 / len(data)"
   ]
  },
  {
   "cell_type": "markdown",
   "metadata": {},
   "source": [
    "A short comment on each feature at first glance:\n",
    "- **Age** should play an important role in deciding wether the patient survives or not so it should be taken into account\n",
    "- **Sex** &ndash; the same is true about gender because the disease is more prevalent in men\n",
    "- **GeoPosition** is expressed by latitude and longitude. There are also no values missing in this column, so it should definitely be included in the final dataset. Furthermore, this feature may render other location features redundant as well\n",
    "- **City**, **AdministrativeDivision**, **Country**, **LivesInWuhan**, **LivesInWuhanComment** &ndash; let's try to ignore these ones at first, based on above comment on GeoPosition rendering them redundant\n",
    "- **DateOfOnsetSymptoms**, **DateOfAdmissionHospital**, **DateOfConfirmation** &ndash; correctly filling in missing values for these features looks complicated, so we'll ignore them for now\n",
    "- **Symptoms** should offer plenty of information\n",
    "- **TravelHistoryDates**, **TravelHistoryLocation** &ndash; only take into account locations, ignore dates\n",
    "- **ReportedMarketExposure**, **ReportedMarketExposureComment** don't seem to hold alot of information; drop them from the analysis\n",
    "- **ChronicDiseaseQ**, **ChronicDiseases** should be taken into account\n",
    "- **SequenceAvailable**, **DischargedQ**, **DateOfDeath**, **DateOfDeath** look pretty irrelevant\n",
    "- **DeathQ** &ndash; this is the prediction target column"
   ]
  },
  {
   "cell_type": "markdown",
   "metadata": {},
   "source": [
    "### 2.2. Define functions for each particular column to be processed"
   ]
  },
  {
   "cell_type": "markdown",
   "metadata": {},
   "source": [
    "Age values are either a number, an interval (stored as: *Interval[(Age1, Age2)]*), or missing\n",
    "\n",
    "```process_age_value``` uses regex to extract age information from a given age value by trying to match numbers\n",
    "- if 2 numbers are matched, age value is stored as an interval, so return mean of those values\n",
    "- otherwise, return the number matched\n",
    "\n",
    "```process_age_column``` applies above function to each age value then fills missing values with mean of values that are present"
   ]
  },
  {
   "cell_type": "code",
   "execution_count": 7,
   "metadata": {},
   "outputs": [],
   "source": [
    "def process_age_value(age_value):\n",
    "    if not pd.isna(age_value):\n",
    "        m = re.findall(r'([0-9]+)', age_value)\n",
    "        if len(m) == 2:\n",
    "            return (int(m[0]) + int(m[1]))/2\n",
    "        else:\n",
    "            return int(m[0])\n",
    "\n",
    "def process_age_column(age):\n",
    "    age = age.apply(lambda x : process_age_value(x))\n",
    "    return age.astype(np.float64).fillna(age.mean())"
   ]
  },
  {
   "cell_type": "markdown",
   "metadata": {},
   "source": [
    "Sex values are either *Entity[\"Gender\", \"Male\"]*, *Entity[\"Gender\", \"Female\"]* or missing\n",
    "\n",
    "```process_sex_value``` returns ```'Male'``` or ```'Female'``` based on the sex value given as parameter\n",
    "\n",
    "```process_sex_column``` applies above function to each sex column then fills missing values by following these steps:\n",
    "- computes sex distribution of existent values\n",
    "- fills missing values with a random variable whose distribution is equal to above computed distribution"
   ]
  },
  {
   "cell_type": "code",
   "execution_count": 8,
   "metadata": {},
   "outputs": [],
   "source": [
    "def process_sex_value(sex_value):\n",
    "    if 'Female' in sex_value:\n",
    "        return 'Female'\n",
    "    else:\n",
    "        return 'Male'\n",
    "\n",
    "def process_sex_column(sex):\n",
    "    sex = sex.fillna(\"\").apply(lambda x : process_sex_value(x))\n",
    "    sex_distribution = sex.value_counts(normalize=True)\n",
    "    missing_values = sex.isna()\n",
    "    sex[missing_values] = np.random.choice(['Male', 'Female'],\n",
    "                                           size=len(sex[missing_values]),\n",
    "                                           p=[sex_distribution['Male'], sex_distribution['Female']])\n",
    "    \n",
    "    return sex.apply(lambda x : 1 if x == 'Female' else 0)"
   ]
  },
  {
   "cell_type": "markdown",
   "metadata": {},
   "source": [
    "```process_geo_pos_value``` extracts latitude and longitude from given ```geo_pos_value``` and returns them as a tuple\n",
    "\n",
    "```process_geo_pos_column``` calls above function and returns two new columns corresponding to latitude and longitude"
   ]
  },
  {
   "cell_type": "code",
   "execution_count": 9,
   "metadata": {},
   "outputs": [],
   "source": [
    "def process_geo_pos_value(geo_pos_value):    \n",
    "    m = re.findall(r'(-?[0-9]+\\.[0-9]*)', geo_pos_value)\n",
    "    if len(m) == 2:            \n",
    "        return float(m[0]), float(m[1])\n",
    "    else:\n",
    "        return 0.0, 0.0\n",
    "def process_geo_pos_column(geo_pos):\n",
    "    # Split column in 2 columns corresponding\n",
    "    # to latitude and longitude\n",
    "    d = pd.Series(geo_pos.fillna(\"\").apply(lambda x : process_geo_pos_value(x)).values)\n",
    "    to_return = pd.DataFrame()\n",
    "    to_return['Lat'] = d.apply(lambda x : x[0])\n",
    "    to_return['Long'] = d.apply(lambda x : x[1])\n",
    "    return to_return\n",
    "    "
   ]
  },
  {
   "cell_type": "markdown",
   "metadata": {},
   "source": [
    "```get_unique_symptoms``` returns a ```set``` object containing all unique symptoms in column given as parameter\n",
    "\n",
    "```process_symptoms_column``` calls above function and returns a data frame containing a one-hot encoding of all symptoms in the Symptoms column"
   ]
  },
  {
   "cell_type": "code",
   "execution_count": 10,
   "metadata": {},
   "outputs": [],
   "source": [
    "import ast\n",
    "\n",
    "def get_unique_symptoms(symptoms):\n",
    "    n = symptoms.shape[0] # nr randuri\n",
    "    s = set() # empty set    \n",
    "    for i in range(n):\n",
    "        if not pd.isna(symptoms[i]):\n",
    "            try:\n",
    "                s = s.union(ast.literal_eval(symptoms[i]))\n",
    "            except:\n",
    "                ...                \n",
    "                \n",
    "    return s\n",
    "\n",
    "def process_symptoms_column(symptoms_col):\n",
    "    # Get unique symptoms from dataset\n",
    "    unique_symptoms = get_unique_symptoms(symptoms_col)\n",
    "    \n",
    "    to_return = pd.DataFrame()\n",
    "    for symptom in unique_symptoms:\n",
    "        to_return[f'symptom_{symptom}'] = symptoms_col.fillna(\"\").apply(lambda x : 1 if symptom in x else 0)\n",
    "        \n",
    "    return to_return\n",
    "    "
   ]
  },
  {
   "cell_type": "code",
   "execution_count": 11,
   "metadata": {},
   "outputs": [],
   "source": [
    "# Should be included into model in the future\n",
    "\n",
    "# def get_temp_value(symptoms_val):\n",
    "#     m = re.findall(r'([0-9]+\\.*[0-9]*)', symptoms_val)\n",
    "#     if len(m) == 2:\n",
    "#         # Treating values that contain an interval for temperature\n",
    "#         return (float(m[0]) + float(m[1])) / 2\n",
    "#     elif len(m) == 1:\n",
    "#         # Simple case when only one temperature value appears\n",
    "#         return float(m[0])\n",
    "#     else:\n",
    "#         return 0.0\n",
    "#     \n",
    "# \n",
    "# def create_temp_column(symptoms_col):\n",
    "#     to_return = pd.DataFrame()\n",
    "#     to_return['temp'] = symptoms_col.fillna(\"\").apply(lambda x : get_temp_value(x))\n",
    "#     \n",
    "#     return to_return\n",
    "#     "
   ]
  },
  {
   "cell_type": "markdown",
   "metadata": {},
   "source": [
    "Similarily to symptoms, get the one-hot encoding of chronic diseases"
   ]
  },
  {
   "cell_type": "code",
   "execution_count": 12,
   "metadata": {},
   "outputs": [],
   "source": [
    "import ast\n",
    "\n",
    "def get_unique_chronic_diseases(chronic_diseases_col):\n",
    "    n = chronic_diseases_col.shape[0] # nr randuri\n",
    "    s = set() # empty set    \n",
    "    for i in range(n):\n",
    "        if not pd.isna(chronic_diseases_col[i]):\n",
    "            try:\n",
    "                s = s.union(ast.literal_eval(chronic_diseases_col[i]))\n",
    "            except:\n",
    "                ...                \n",
    "                \n",
    "    return s\n",
    "\n",
    "def process_chronic_diseases_column(chronic_diseases_col):\n",
    "    # Get unique diseases from dataset\n",
    "    unique_diseases = get_unique_chronic_diseases(chronic_diseases_col)\n",
    "    \n",
    "    to_return = pd.DataFrame()\n",
    "    for disease in unique_diseases:\n",
    "        to_return[f'disease_{disease}'] = chronic_diseases_col.fillna(\"\").apply(lambda x : 1 if disease in x else 0)\n",
    "        \n",
    "    return to_return\n",
    "    "
   ]
  },
  {
   "cell_type": "markdown",
   "metadata": {},
   "source": [
    " and travel history locations"
   ]
  },
  {
   "cell_type": "code",
   "execution_count": 13,
   "metadata": {},
   "outputs": [],
   "source": [
    "def get_unique_locations(travel_his_col):    \n",
    "    travel_history_list = travel_his_col.fillna(\"\").apply(lambda x : re.findall(r'Entity\\[[^\\]\\[]+\\]', x))\n",
    "    unique_locations = np.unique(np.concatenate(travel_history_list))\n",
    "    return unique_locations\n",
    "\n",
    "def process_travel_history_column(travel_his_col):\n",
    "    unique_locations = get_unique_locations(travel_his_col)\n",
    "    to_return = pd.DataFrame()\n",
    "    for location in unique_locations:\n",
    "        to_return[f'travelled_to_{location}'] = travel_his_col.fillna(\"\").apply(lambda x : 1 if location in x else 0)\n",
    "    return to_return"
   ]
  },
  {
   "cell_type": "markdown",
   "metadata": {},
   "source": [
    "Create a class that inherits from ```BaseEstimator``` and ```TransformerMixin``` and whose ```transform``` method calls all transformation functions defined above in order to clean the dataset.\n",
    "\n",
    "This enables the class to be used in sklearn transformation pipelines, in case some other transformations are required before or after feature clean-up."
   ]
  },
  {
   "cell_type": "code",
   "execution_count": 14,
   "metadata": {},
   "outputs": [],
   "source": [
    "from sklearn.base import BaseEstimator, TransformerMixin\n",
    "\n",
    "class DataCleaner(BaseEstimator, TransformerMixin):\n",
    "    def __init__(self):\n",
    "        ...\n",
    "    def fit(self, X, y=None):\n",
    "        return self\n",
    "    def transform(self, X, y=None, standard_scaling=True):\n",
    "        # Process age column\n",
    "        X['Age'] = process_age_column(X['Age'])\n",
    "        # Process sex column\n",
    "        X['Sex'] = process_sex_column(X['Sex'])\n",
    "        \n",
    "        # Get latitude and longitude columns column\n",
    "        # and drop GeoPosition column\n",
    "        geo_pos = process_geo_pos_column(X['GeoPosition'])\n",
    "        X.drop(['GeoPosition'], axis=1, inplace=True)\n",
    "        # Get one-hot encoded symptoms\n",
    "        # and drop Symptoms column\n",
    "        symptoms = process_symptoms_column(X['Symptoms'])\n",
    "        X.drop(['Symptoms'], axis=1, inplace=True)\n",
    "        # Get one-hot encoded chronic diseases\n",
    "        # and drop ChronicDiseases column\n",
    "        chronic_diseases = process_chronic_diseases_column(X['ChronicDiseases'])\n",
    "        X.drop(['ChronicDiseases'], axis=1, inplace=True)\n",
    "        # Get one-hot encoded travel history values\n",
    "        # and drop TravelHistoryLocation column\n",
    "        travel_his = process_travel_history_column(X['TravelHistoryLocation'])\n",
    "        X.drop(['TravelHistoryLocation'], axis=1, inplace=True)\n",
    "        \n",
    "        # Change values in ChronicDiseaseQ column from True and False to 1 and 0\n",
    "        X['ChronicDiseaseQ'] = X['ChronicDiseaseQ'].apply(lambda x : 1 if x == 'True' else 0)\n",
    "        \n",
    "        # Concatenate all four above datasets into the source dataset\n",
    "        X = pd.concat([X, geo_pos, symptoms, chronic_diseases, travel_his], axis=1)\n",
    "        \n",
    "        # Drop irrelevant columns\n",
    "        irrelevant_columns = ['City', 'AdministrativeDivision', 'Country', 'DateOfOnsetSymptoms', 'DateOfAdmissionHospital',\n",
    "                               'DateOfConfirmation', 'LivesInWuhan', 'LivesInWuhanComment', 'TravelHistoryDates', 'ReportedMarketExposure',\n",
    "                               'ReportedMarketExposureComment', 'SequenceAvailable', 'DischargedQ', 'DateOfDeath', 'DateOfDischarge']\n",
    "        X.drop(irrelevant_columns, axis=1, inplace=True)        \n",
    "        \n",
    "        # Return clean dataset\n",
    "        return X"
   ]
  },
  {
   "cell_type": "markdown",
   "metadata": {},
   "source": [
    "## 3. Prepare data for training and testing"
   ]
  },
  {
   "cell_type": "markdown",
   "metadata": {},
   "source": [
    "Clean up feature columns and extract the target column"
   ]
  },
  {
   "cell_type": "code",
   "execution_count": 42,
   "metadata": {},
   "outputs": [],
   "source": [
    "data_cleaner = DataCleaner()\n",
    "\n",
    "X = data_cleaner.transform(data.drop(['DeathQ'], axis=1))\n",
    "# Replace each of currence of True with 1 and insert 0 where data is missing\n",
    "y = data['DeathQ'].fillna(\"\").apply(lambda x : 1 if x == 'True' else 0)"
   ]
  },
  {
   "cell_type": "markdown",
   "metadata": {},
   "source": [
    "Split dataset into train and test data"
   ]
  },
  {
   "cell_type": "code",
   "execution_count": 43,
   "metadata": {},
   "outputs": [],
   "source": [
    "from sklearn.model_selection import train_test_split\n",
    "\n",
    "# Use 33% of data for testing and the rest for training\n",
    "X_train, X_test, y_train, y_test = train_test_split(X, y, test_size=0.33, random_state=42)"
   ]
  },
  {
   "cell_type": "markdown",
   "metadata": {},
   "source": [
    "## 4. Select a model and train it"
   ]
  },
  {
   "cell_type": "markdown",
   "metadata": {},
   "source": [
    "We'll choose a simple model &ndash; a logistic regression classifier"
   ]
  },
  {
   "cell_type": "code",
   "execution_count": 44,
   "metadata": {},
   "outputs": [
    {
     "name": "stdout",
     "output_type": "stream",
     "text": [
      "[LibLinear]"
     ]
    },
    {
     "data": {
      "text/plain": [
       "LogisticRegression(C=1.0, class_weight=None, dual=False, fit_intercept=True,\n",
       "                   intercept_scaling=1, l1_ratio=None, max_iter=100,\n",
       "                   multi_class='warn', n_jobs=None, penalty='l2',\n",
       "                   random_state=None, solver='liblinear', tol=0.0001, verbose=1,\n",
       "                   warm_start=False)"
      ]
     },
     "execution_count": 44,
     "metadata": {},
     "output_type": "execute_result"
    }
   ],
   "source": [
    "from sklearn.linear_model import LogisticRegression\n",
    "\n",
    "# Use standard hyperparameters and liblinear as solver\n",
    "log_reg = LogisticRegression(verbose=1, solver='liblinear')\n",
    "log_reg.fit(X_train, y_train)"
   ]
  },
  {
   "cell_type": "markdown",
   "metadata": {},
   "source": [
    "## 5. Evaluate model performance"
   ]
  },
  {
   "cell_type": "code",
   "execution_count": 45,
   "metadata": {},
   "outputs": [
    {
     "name": "stdout",
     "output_type": "stream",
     "text": [
      "Model accuracy: 99.97%\n"
     ]
    }
   ],
   "source": [
    "accuracy = accuracy_score(y_test, log_reg.predict(X_test))\n",
    "print(f'Model accuracy: {accuracy * 100:.2f}%')"
   ]
  },
  {
   "cell_type": "markdown",
   "metadata": {},
   "source": [
    "This extremely high accuracy score value is to be expected (and is, in fact, a paradox) because the dataset is heavily unbalanced. Let's have a look."
   ]
  },
  {
   "cell_type": "code",
   "execution_count": 46,
   "metadata": {},
   "outputs": [
    {
     "name": "stdout",
     "output_type": "stream",
     "text": [
      "0    0.999445\n",
      "1    0.000555\n",
      "Name: DeathQ, dtype: float64\n"
     ]
    }
   ],
   "source": [
    "deathq_distribution = y_train.value_counts(normalize=True)\n",
    "print(deathq_distribution)"
   ]
  },
  {
   "cell_type": "markdown",
   "metadata": {},
   "source": [
    "Almost 99.95% of samples belong to the class 0, meaning they are pacients who survived COVID. In this case, even a trivial \"machine learning\" model that always predicts 0 would be right in 99.95% of cases!\n",
    "\n",
    "Let's try to use other evaluation metrics, such as recall and precision. A low recall score means that our model predicts 0 (that is *survived*) for patients who, unfortunately, have died. That would be really bad. A low precision score means that our model predicts 1 for patients who have survived. That wouldn't be good either."
   ]
  },
  {
   "cell_type": "code",
   "execution_count": 47,
   "metadata": {},
   "outputs": [
    {
     "name": "stdout",
     "output_type": "stream",
     "text": [
      "Model recall: 0.4043\n",
      "Model precision: 0.9500\n"
     ]
    }
   ],
   "source": [
    "recall = recall_score(y_test, log_reg.predict(X_test))\n",
    "print(f'Model recall: {recall:.4f}')\n",
    "precision = precision_score(y_test, log_reg.predict(X_test))\n",
    "print(f'Model precision: {precision:.4f}')"
   ]
  },
  {
   "cell_type": "markdown",
   "metadata": {},
   "source": [
    "As expected, our model performs badly in terms of recall because of how unbalanced the dataset is, but we will try to improve that."
   ]
  },
  {
   "cell_type": "markdown",
   "metadata": {},
   "source": [
    "## 6. Improve model performance"
   ]
  },
  {
   "cell_type": "markdown",
   "metadata": {},
   "source": [
    "### 6.1. Standardize the data"
   ]
  },
  {
   "cell_type": "markdown",
   "metadata": {},
   "source": [
    "Let's start by standardizing the values in Age, Lat, and Long columns, because Logistic Regression benefits from dealing with standardized data."
   ]
  },
  {
   "cell_type": "code",
   "execution_count": 48,
   "metadata": {},
   "outputs": [],
   "source": [
    "from sklearn.preprocessing import StandardScaler\n",
    "\n",
    "standard_scaler = StandardScaler()\n",
    "X_train[['Age', 'Lat', 'Long']] = standard_scaler.fit_transform(X_train[['Age', 'Lat', 'Long']])\n",
    "X_test[['Age', 'Lat', 'Long']] = standard_scaler.transform(X_test[['Age', 'Lat', 'Long']])"
   ]
  },
  {
   "cell_type": "markdown",
   "metadata": {},
   "source": [
    "Re-train the model using standardized data"
   ]
  },
  {
   "cell_type": "code",
   "execution_count": 49,
   "metadata": {},
   "outputs": [
    {
     "name": "stdout",
     "output_type": "stream",
     "text": [
      "[LibLinear]"
     ]
    },
    {
     "data": {
      "text/plain": [
       "LogisticRegression(C=1.0, class_weight=None, dual=False, fit_intercept=True,\n",
       "                   intercept_scaling=1, l1_ratio=None, max_iter=100,\n",
       "                   multi_class='warn', n_jobs=None, penalty='l2',\n",
       "                   random_state=None, solver='liblinear', tol=0.0001, verbose=1,\n",
       "                   warm_start=False)"
      ]
     },
     "execution_count": 49,
     "metadata": {},
     "output_type": "execute_result"
    }
   ],
   "source": [
    "log_reg_std = LogisticRegression(verbose=1, solver='liblinear')\n",
    "log_reg_std.fit(X_train, y_train)"
   ]
  },
  {
   "cell_type": "markdown",
   "metadata": {},
   "source": [
    "Re-evaluate the model"
   ]
  },
  {
   "cell_type": "code",
   "execution_count": 50,
   "metadata": {},
   "outputs": [
    {
     "name": "stdout",
     "output_type": "stream",
     "text": [
      "Model accuracy: 99.97%\n",
      "Model recall: 0.4468\n",
      "Model precision: 0.9545\n"
     ]
    }
   ],
   "source": [
    "accuracy = accuracy_score(y_test, log_reg_std.predict(X_test))\n",
    "print(f'Model accuracy: {accuracy * 100:.2f}%')\n",
    "recall = recall_score(y_test, log_reg_std.predict(X_test))\n",
    "print(f'Model recall: {recall:.4f}')\n",
    "precision = precision_score(y_test, log_reg_std.predict(X_test))\n",
    "print(f'Model precision: {precision:.4f}')"
   ]
  },
  {
   "cell_type": "markdown",
   "metadata": {},
   "source": [
    "No loss of accuracy, but a slight gain in recall. Still not enough."
   ]
  },
  {
   "cell_type": "markdown",
   "metadata": {},
   "source": [
    "### 6.2 Use class weights"
   ]
  },
  {
   "cell_type": "markdown",
   "metadata": {},
   "source": [
    "An idea in the case of unbalanced datasets is to use class weights in training and assign more weight to the scarce class.\n",
    "\n",
    "Let's try some initial values and assign a weight of 0.1 to patients who survived, and a weight of 0.9 to those who didn't. By doing this, our model treats samples of class 1 (not survived) as 9 times more important than those from class 0."
   ]
  },
  {
   "cell_type": "code",
   "execution_count": 77,
   "metadata": {},
   "outputs": [],
   "source": [
    "class_weights = {0 : 0.1, 1 : 0.9}"
   ]
  },
  {
   "cell_type": "markdown",
   "metadata": {},
   "source": [
    "Re-train the model using class weights"
   ]
  },
  {
   "cell_type": "code",
   "execution_count": 130,
   "metadata": {},
   "outputs": [
    {
     "name": "stdout",
     "output_type": "stream",
     "text": [
      "[LibLinear]"
     ]
    },
    {
     "data": {
      "text/plain": [
       "LogisticRegression(C=1.0, class_weight={0: 0.1, 1: 0.9}, dual=False,\n",
       "                   fit_intercept=True, intercept_scaling=1, l1_ratio=None,\n",
       "                   max_iter=100, multi_class='warn', n_jobs=None, penalty='l2',\n",
       "                   random_state=None, solver='liblinear', tol=0.0001, verbose=1,\n",
       "                   warm_start=False)"
      ]
     },
     "execution_count": 130,
     "metadata": {},
     "output_type": "execute_result"
    }
   ],
   "source": [
    "log_reg_weighted = LogisticRegression(class_weight=class_weights, verbose=1, solver='liblinear')\n",
    "log_reg_weighted.fit(X_train, y_train)"
   ]
  },
  {
   "cell_type": "markdown",
   "metadata": {},
   "source": [
    "Re-evaluate the model"
   ]
  },
  {
   "cell_type": "code",
   "execution_count": 131,
   "metadata": {},
   "outputs": [
    {
     "name": "stdout",
     "output_type": "stream",
     "text": [
      "Model accuracy: 99.96%\n",
      "Model recall: 0.5745\n",
      "Model precision: 0.6429\n"
     ]
    }
   ],
   "source": [
    "accuracy = accuracy_score(y_test, log_reg_weighted.predict(X_test))\n",
    "print(f'Model accuracy: {accuracy * 100:.2f}%')\n",
    "recall = recall_score(y_test, log_reg_weighted.predict(X_test))\n",
    "print(f'Model recall: {recall:.4f}')\n",
    "precision = precision_score(y_test, log_reg_weighted.predict(X_test))\n",
    "print(f'Model precision: {precision:.4f}')"
   ]
  },
  {
   "cell_type": "markdown",
   "metadata": {},
   "source": [
    "This looks like the right path for increasing recall. But we should be aware of the fact that precision is dropping as recall is increasing.\n",
    "\n",
    "Let's try to visualize how the model performs with different class weights that are close to the above values. Train the model using different weights and store evaluation results in arrays."
   ]
  },
  {
   "cell_type": "code",
   "execution_count": 135,
   "metadata": {},
   "outputs": [],
   "source": [
    "recall_scores = []\n",
    "precision_scores = []\n",
    "weights = []\n",
    "weight_class_0 = 0.1\n",
    "\n",
    "for _ in range(10):\n",
    "    model = LogisticRegression(class_weight={0: weight_class_0, 1: 1 - weight_class_0}, solver='liblinear')\n",
    "    model.fit(X_train, y_train)\n",
    "    recall_scores.append(recall_score(y_test, model.predict(X_test)))\n",
    "    precision_scores.append(precision_score(y_test, model.predict(X_test)))\n",
    "    weights.append(1 - weight_class_0)\n",
    "    weight_class_0 -= 0.01"
   ]
  },
  {
   "cell_type": "markdown",
   "metadata": {},
   "source": [
    "Plot results"
   ]
  },
  {
   "cell_type": "code",
   "execution_count": 136,
   "metadata": {},
   "outputs": [
    {
     "data": {
      "image/png": "[encoded data removed]",
      "text/plain": [
       "<Figure size 432x288 with 1 Axes>"
      ]
     },
     "metadata": {
      "needs_background": "light"
     },
     "output_type": "display_data"
    }
   ],
   "source": [
    "plt.plot(weights, recall_scores, color='r', label='Recall')\n",
    "plt.plot(weights, precision_scores, color='b', label='Precision')\n",
    "plt.legend()\n",
    "plt.xlabel('Class \\'1\\' weight = 1 - Class \\'0\\' weight')\n",
    "plt.grid()\n",
    "plt.show()"
   ]
  },
  {
   "cell_type": "markdown",
   "metadata": {},
   "source": [
    "Looks like precision is decreasing significantly as the weight for class '1' increases."
   ]
  },
  {
   "cell_type": "markdown",
   "metadata": {},
   "source": [
    "Let's visualize which features play the most important role in making a decision"
   ]
  },
  {
   "cell_type": "code",
   "execution_count": 142,
   "metadata": {},
   "outputs": [
    {
     "data": {
      "image/png": "[encoded data removed]",
      "text/plain": [
       "<Figure size 360x576 with 1 Axes>"
      ]
     },
     "metadata": {
      "needs_background": "light"
     },
     "output_type": "display_data"
    }
   ],
   "source": [
    "coefs = np.abs(log_reg_weighted.coef_[0])\n",
    "indices = np.argsort(coefs)[::-1]\n",
    "\n",
    "n = 20 # 20 most important features\n",
    "\n",
    "plt.figure(figsize=(5,8))\n",
    "plt.title(\"Feature importances (Logistic Regression)\")\n",
    "plt.barh(range(n), coefs[indices[:n]][::-1],\n",
    "       color=\"r\", align=\"center\")\n",
    "plt.yticks(range(n), X_train.columns[indices[:n]][::-1], ha='right')\n",
    "plt.show()"
   ]
  },
  {
   "cell_type": "markdown",
   "metadata": {},
   "source": [
    "## 7. Trying other models"
   ]
  },
  {
   "cell_type": "markdown",
   "metadata": {},
   "source": [
    "Let's check how other classifiers perform in this task."
   ]
  },
  {
   "cell_type": "markdown",
   "metadata": {},
   "source": [
    "### 7.1. Decision Tree"
   ]
  },
  {
   "cell_type": "code",
   "execution_count": 108,
   "metadata": {},
   "outputs": [
    {
     "data": {
      "text/plain": [
       "DecisionTreeClassifier(class_weight=None, criterion='gini', max_depth=None,\n",
       "                       max_features=None, max_leaf_nodes=None,\n",
       "                       min_impurity_decrease=0.0, min_impurity_split=None,\n",
       "                       min_samples_leaf=1, min_samples_split=2,\n",
       "                       min_weight_fraction_leaf=0.0, presort=False,\n",
       "                       random_state=None, splitter='best')"
      ]
     },
     "execution_count": 108,
     "metadata": {},
     "output_type": "execute_result"
    }
   ],
   "source": [
    "from sklearn.tree import DecisionTreeClassifier\n",
    "\n",
    "tree = DecisionTreeClassifier()\n",
    "tree.fit(X_train, y_train)"
   ]
  },
  {
   "cell_type": "code",
   "execution_count": 109,
   "metadata": {},
   "outputs": [
    {
     "name": "stdout",
     "output_type": "stream",
     "text": [
      "Model accuracy: 99.97%\n",
      "Model recall: 0.6596\n",
      "Model precision: 0.7209\n"
     ]
    }
   ],
   "source": [
    "accuracy = accuracy_score(y_test, tree.predict(X_test))\n",
    "print(f'Model accuracy: {accuracy * 100:.2f}%')\n",
    "recall = recall_score(y_test, tree.predict(X_test))\n",
    "print(f'Model recall: {recall:.4f}')\n",
    "precision = precision_score(y_test, tree.predict(X_test))\n",
    "print(f'Model precision: {precision:.4f}')"
   ]
  },
  {
   "cell_type": "markdown",
   "metadata": {},
   "source": [
    "Not bad! But it could certainly use some improvement. Let's see how the model behaves when varying some parameters, such as the ```min_samples_split```, which represents 'the minimum number of samples required to split an internal node'."
   ]
  },
  {
   "cell_type": "code",
   "execution_count": 122,
   "metadata": {},
   "outputs": [],
   "source": [
    "recall_scores = []\n",
    "precision_scores = []\n",
    "min_sample_splits = []\n",
    "min_sample_split_val = 8\n",
    "\n",
    "for _ in range(5):\n",
    "    model = DecisionTreeClassifier(min_samples_split=min_sample_split_val)\n",
    "    model.fit(X_train, y_train)\n",
    "    recall_scores.append(recall_score(y_test, model.predict(X_test)))\n",
    "    precision_scores.append(precision_score(y_test, model.predict(X_test)))\n",
    "    min_sample_splits.append(min_sample_split_val)\n",
    "    min_sample_split_val += 2\n",
    "\n",
    "from sklearn.tree import DecisionTreeClassifier"
   ]
  },
  {
   "cell_type": "markdown",
   "metadata": {},
   "source": [
    "Plot results"
   ]
  },
  {
   "cell_type": "code",
   "execution_count": 123,
   "metadata": {},
   "outputs": [
    {
     "data": {
      "image/png": "[encoded data removed]",
      "text/plain": [
       "<Figure size 432x288 with 1 Axes>"
      ]
     },
     "metadata": {
      "needs_background": "light"
     },
     "output_type": "display_data"
    }
   ],
   "source": [
    "plt.plot(min_sample_splits, recall_scores, color='r', label='Recall')\n",
    "plt.plot(min_sample_splits, precision_scores, color='b', label='Precision')\n",
    "plt.legend()\n",
    "plt.xlabel('min_sample_split')\n",
    "plt.grid()\n",
    "plt.show()"
   ]
  },
  {
   "cell_type": "markdown",
   "metadata": {},
   "source": [
    "When ```min_sample_split``` is 12, the model has a recall score of ~0.725 and a precision above 0.8, which is better than all previous results."
   ]
  },
  {
   "cell_type": "markdown",
   "metadata": {},
   "source": [
    "### 7.2. Random Forest"
   ]
  },
  {
   "cell_type": "code",
   "execution_count": 140,
   "metadata": {},
   "outputs": [
    {
     "name": "stderr",
     "output_type": "stream",
     "text": [
      "c:\\programdata\\miniconda3\\lib\\site-packages\\sklearn\\ensemble\\forest.py:245: FutureWarning: The default value of n_estimators will change from 10 in version 0.20 to 100 in 0.22.\n",
      "  \"10 in version 0.20 to 100 in 0.22.\", FutureWarning)\n"
     ]
    },
    {
     "data": {
      "text/plain": [
       "RandomForestClassifier(bootstrap=True, class_weight=None, criterion='gini',\n",
       "                       max_depth=None, max_features='auto', max_leaf_nodes=None,\n",
       "                       min_impurity_decrease=0.0, min_impurity_split=None,\n",
       "                       min_samples_leaf=1, min_samples_split=2,\n",
       "                       min_weight_fraction_leaf=0.0, n_estimators=10,\n",
       "                       n_jobs=None, oob_score=False, random_state=None,\n",
       "                       verbose=0, warm_start=False)"
      ]
     },
     "execution_count": 140,
     "metadata": {},
     "output_type": "execute_result"
    }
   ],
   "source": [
    "from sklearn.ensemble import RandomForestClassifier\n",
    "\n",
    "rfc = RandomForestClassifier()\n",
    "rfc.fit(X_train, y_train)"
   ]
  },
  {
   "cell_type": "code",
   "execution_count": 141,
   "metadata": {},
   "outputs": [
    {
     "name": "stdout",
     "output_type": "stream",
     "text": [
      "Model accuracy: 99.98%\n",
      "Model recall: 0.7234\n",
      "Model precision: 0.8718\n"
     ]
    }
   ],
   "source": [
    "accuracy = accuracy_score(y_test, rfc.predict(X_test))\n",
    "print(f'Model accuracy: {accuracy * 100:.2f}%')\n",
    "recall = recall_score(y_test, rfc.predict(X_test))\n",
    "print(f'Model recall: {recall:.4f}')\n",
    "precision = precision_score(y_test, rfc.predict(X_test))\n",
    "print(f'Model precision: {precision:.4f}')"
   ]
  },
  {
   "cell_type": "markdown",
   "metadata": {},
   "source": [
    "A RandomForestClassifier with default hyperparameters performs similarly to the decision tree with ```min_samples_split = 12```"
   ]
  },
  {
   "cell_type": "code",
   "execution_count": 143,
   "metadata": {},
   "outputs": [
    {
     "name": "stdout",
     "output_type": "stream",
     "text": [
      "Model accuracy: 99.98%\n",
      "Model recall: 0.7660\n",
      "Model precision: 0.8780\n"
     ]
    }
   ],
   "source": [
    "from sklearn.ensemble import RandomForestClassifier\n",
    "\n",
    "rfc2 = RandomForestClassifier(n_estimators=250)\n",
    "rfc2.fit(X_train, y_train)\n",
    "\n",
    "accuracy = accuracy_score(y_test, rfc2.predict(X_test))\n",
    "print(f'Model accuracy: {accuracy * 100:.2f}%')\n",
    "recall = recall_score(y_test, rfc2.predict(X_test))\n",
    "print(f'Model recall: {recall:.4f}')\n",
    "precision = precision_score(y_test, rfc2.predict(X_test))\n",
    "print(f'Model precision: {precision:.4f}')"
   ]
  },
  {
   "cell_type": "markdown",
   "metadata": {},
   "source": [
    "Increasing the number of decision trees in the forest by modifying the ```n_estimators``` parameter yields to even better results. A GridSearch could be computed to find the best parameters.\n",
    "\n",
    "Let's visualize what features does the RandomForestClassifier regard as important."
   ]
  },
  {
   "cell_type": "code",
   "execution_count": 148,
   "metadata": {},
   "outputs": [
    {
     "data": {
      "image/png": "[encoded data removed]",
      "text/plain": [
       "<Figure size 360x576 with 1 Axes>"
      ]
     },
     "metadata": {
      "needs_background": "light"
     },
     "output_type": "display_data"
    }
   ],
   "source": [
    "coefs = rfc2.feature_importances_\n",
    "indices = np.argsort(coefs)[::-1]\n",
    "\n",
    "n = 25 # 25 most important features\n",
    "\n",
    "plt.figure(figsize=(5,8))\n",
    "plt.title(\"Feature importances (Random Forest Classifier)\")\n",
    "plt.barh(range(n), coefs[indices[:n]][::-1],\n",
    "       color=\"r\", align=\"center\")\n",
    "plt.yticks(range(n), X_train.columns[indices[:n]][::-1], ha='right')\n",
    "plt.show()"
   ]
  },
  {
   "cell_type": "markdown",
   "metadata": {},
   "source": [
    "## 8. Conclusion"
   ]
  },
  {
   "cell_type": "markdown",
   "metadata": {},
   "source": [
    "The dataset for this learning task is heavily unbalanced and simple models such as the LogReg classifier do not yield the best results. However, by using an ensemble learning method, like the RandomTreeClassifier, higher evaluation scores are obtained. The problem of class unbalance in data could be solved by resorting to other approaches too, such as undersampling or oversampling, which should be targets for future improvement of this project."
   ]
  }
 ],
 "metadata": {
  "kernelspec": {
   "display_name": "Python 3",
   "language": "python",
   "name": "python3"
  },
  "language_info": {
   "codemirror_mode": {
    "name": "ipython",
    "version": 3
   },
   "file_extension": ".py",
   "mimetype": "text/x-python",
   "name": "python",
   "nbconvert_exporter": "python",
   "pygments_lexer": "ipython3",
   "version": "3.7.3"
  }
 },
 "nbformat": 4,
 "nbformat_minor": 4
}
